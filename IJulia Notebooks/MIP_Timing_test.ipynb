{
 "cells": [
  {
   "cell_type": "markdown",
   "metadata": {},
   "source": [
    "#  Preparation"
   ]
  },
  {
   "cell_type": "markdown",
   "metadata": {},
   "source": [
    "### Modules"
   ]
  },
  {
   "cell_type": "code",
   "execution_count": 1,
   "metadata": {
    "collapsed": false
   },
   "outputs": [],
   "source": [
    "using JuMP, Gurobi"
   ]
  },
  {
   "cell_type": "markdown",
   "metadata": {},
   "source": [
    "### Solver"
   ]
  },
  {
   "cell_type": "code",
   "execution_count": 2,
   "metadata": {
    "collapsed": true
   },
   "outputs": [],
   "source": [
    "solver = GurobiSolver(Presolve = 1)\n",
    ";"
   ]
  },
  {
   "cell_type": "markdown",
   "metadata": {},
   "source": [
    "### Data"
   ]
  },
  {
   "cell_type": "code",
   "execution_count": 3,
   "metadata": {
    "collapsed": true
   },
   "outputs": [],
   "source": [
    "P = 15 # Number of planes\n",
    "c = rand(P)    # Cost of delays for each plane\n",
    "t = rand(P)    # Ideal arrival time\n",
    "l = rand(P)  # Time spent on the runway\n",
    "set_up = rand(P,P)# Set-up times: entry (p,q) is the minimum time required between the finish of plane p and the arrival of plane q\n",
    "d_max = rand(P)*10 # Maximum allowable delay for each plane\n",
    ";"
   ]
  },
  {
   "cell_type": "markdown",
   "metadata": {},
   "source": [
    "### Pre-checks"
   ]
  },
  {
   "cell_type": "code",
   "execution_count": 4,
   "metadata": {
    "collapsed": false
   },
   "outputs": [],
   "source": [
    "assert(all(l.>=0))\n",
    "assert(length(t)==P)\n",
    "assert(length(l)==P)\n",
    "assert(length(d_max)==P)\n",
    "assert(size(set_up)==(P,P))"
   ]
  },
  {
   "cell_type": "markdown",
   "metadata": {},
   "source": [
    "### Big M calculation"
   ]
  },
  {
   "cell_type": "code",
   "execution_count": 5,
   "metadata": {
    "collapsed": false
   },
   "outputs": [],
   "source": [
    "BigM = Array{Float64}(P,P)\n",
    "for p = 1:P\n",
    "    for q = 1:P\n",
    "        BigM[p,q] = 2*d_max[p] + 2*d_max[q] + l[p]+l[q] + 2*abs(t[p]-t[q]) \n",
    "    end\n",
    "end"
   ]
  },
  {
   "cell_type": "markdown",
   "metadata": {},
   "source": [
    "We would like $M_{p,q} \\geq W_{p,q}$.\n",
    "\n",
    "$$\\begin{align*}\n",
    "    W_{p,q} &= \\max\\{L_{p,q},L_{q,p}\\}\\\\\n",
    "            &\\leq |L_{p,q}| + |L_{q,p}|\\\\\n",
    "            &= |e_p - a_q| + |e_q - a_p|\\\\\n",
    "            &= |l_p + a_p - a_q| + |l_q + a_q - a_p|\\\\\n",
    "            &\\leq | l_p| + |a_p - a_q| + |l_q| + |a_q - a_p|&\\text{By the triangle inequality}\\\\\n",
    "            &= l_p +  l_q + 2| a_p - a_q|&\\text{since }l\\geq 0\\\\\n",
    "            &= l_p +  l_q + 2| t_p+d_p-t_q-d_q|\\\\\n",
    "            &\\leq l_p +  l_q + 2| t_p-t_q| + 2|d_p-d_q|&\\text{By the triangle inequality}\\\\\n",
    "            &\\leq 2|d_p|+2|d_q|+l_p +  l_q + 2| t_p-t_q|&\\text{By the triangle inequality}\\\\\n",
    "            &\\leq 2d_{\\max_p}+2d_{\\max_q}+l_p +  l_q + 2| t_p-t_q|\\\\\n",
    "            &=:M_{p,q}\n",
    "\\end{align*}$$"
   ]
  },
  {
   "cell_type": "markdown",
   "metadata": {},
   "source": [
    "# Model"
   ]
  },
  {
   "cell_type": "markdown",
   "metadata": {},
   "source": [
    "### Main model object"
   ]
  },
  {
   "cell_type": "code",
   "execution_count": 6,
   "metadata": {
    "collapsed": true
   },
   "outputs": [],
   "source": [
    "m = Model(solver = solver)\n",
    ";"
   ]
  },
  {
   "cell_type": "markdown",
   "metadata": {},
   "source": [
    "### Variables "
   ]
  },
  {
   "cell_type": "code",
   "execution_count": 7,
   "metadata": {
    "collapsed": true
   },
   "outputs": [],
   "source": [
    "@variable(m, a[1:P]) # Scheduled arrival times\n",
    "@variable(m, e[1:P]) # Scheduled ending times\n",
    "@variable(m, d[1:P] >= 0) # Scheduled delays\n",
    "@variable(m, L[1:P,1:P]) # Time between the first plane, p, finishing and the second, q, arriving\n",
    "@variable(m, W[1:P,1:P] >= 0) # The smallest window of time that contains all intervals of time in which either plane p or plane q is landing.\n",
    "@variable(m, G[1:P,1:P] >= 0) # The gap between plane p ad q's landings\n",
    "@variable(m, A[1:P,1:P], Bin) # Binary matrix; entry (p,q) is equal to 1 if plane p arrives before plane q, and 0 otherwise.\n",
    ";"
   ]
  },
  {
   "cell_type": "markdown",
   "metadata": {},
   "source": [
    "### Objective"
   ]
  },
  {
   "cell_type": "code",
   "execution_count": 8,
   "metadata": {
    "collapsed": false
   },
   "outputs": [],
   "source": [
    "@objective(m, Min, dot(c,d)) # Minimise the total cost of delays\n",
    ";"
   ]
  },
  {
   "cell_type": "markdown",
   "metadata": {},
   "source": [
    "### Essential Constraints"
   ]
  },
  {
   "cell_type": "code",
   "execution_count": 9,
   "metadata": {
    "collapsed": true
   },
   "outputs": [],
   "source": [
    "@constraint(m, a .== t + d) # The arrival time is the ideal arrival time, plus delay\n",
    "@constraint(m, e .== a + l) # The ending time is the arrival time plus time spent on runway\n",
    "@constraint(m, d .<= d_max) # Maximum delay\n",
    "for p = 1:P\n",
    "    for q = 1:P\n",
    "        @constraint(m, L[p,q] == e[p] - a[q]) # By the definition of L\n",
    "        \n",
    "        @constraint(m, W[p,q] >= L[p,q]) # W[p,q] == maximum(L[p,q], L[q,p]), constraint I\n",
    "        @constraint(m, W[p,q] >= L[q,p]) # W[p,q] == maximum(L[p,q], L[q,p]), constraint II\n",
    "        @constraint(m, W[p,q] <= L[p,q] + BigM[p,q]*A[p,q]) # W[p,q] == maximum(L[p,q], L[q,p]), constraint III\n",
    "        @constraint(m, W[p,q] <= L[q,p] + BigM[p,q]*(1-A[p,q])) # W[p,q] == maximum(L[p,q], L[q,p]), constraint IV\n",
    "\n",
    "        if p != q\n",
    "            @constraint(m, G[p,q]+l[p]+l[q] == W[p,q]) # The window W is the time the two planes spend each on the runway, plus the gap between these planes.\n",
    "            @constraint(m, G[p,q] >= set_up[p,q].*A[p,q]) # Enforce set-up times\n",
    "            @constraint(m, A[p,q] + A[q,p] == 1) # Plane p comes before plane q, or q before p, but not both.\n",
    "        end\n",
    "    end\n",
    "end"
   ]
  },
  {
   "cell_type": "markdown",
   "metadata": {},
   "source": [
    "### Additional Constraints"
   ]
  },
  {
   "cell_type": "markdown",
   "metadata": {},
   "source": [
    "Now for some constraints that should help make the problem easier to solve, but aren't necessary in enforcing the logic of the problem. The first is to get an upper bound on each delay. In the very worst case scenario, plane $p$ ideally arrives first, but gets scheduled to arrive last, after all the other planes have arrived one after the other, incurring times of\n",
    "$$\\sum_{i\\neq p} l_i+(P-1)\\max_{i,j}\\mathrm{(Setup)}_{i,j}$$\n",
    "in total. Therefore our constraint is"
   ]
  },
  {
   "cell_type": "code",
   "execution_count": 10,
   "metadata": {
    "collapsed": true
   },
   "outputs": [],
   "source": [
    "for p = 1:P\n",
    "    @constraint(m, d[p] <= sum(l)-l[p] + (P-1)*maximum(set_up))\n",
    "end"
   ]
  },
  {
   "cell_type": "code",
   "execution_count": 11,
   "metadata": {
    "collapsed": false
   },
   "outputs": [
    {
     "name": "stdout",
     "output_type": "stream",
     "text": [
      "Academic license - for non-commercial use only\n",
      "Optimize a model with 1815 rows, 945 columns and 4275 nonzeros\n",
      "Variable types: 720 continuous, 225 integer (225 binary)\n",
      "Coefficient statistics:\n",
      "  Matrix range     [5e-03, 4e+01]\n",
      "  Objective range  [3e-02, 9e-01]\n",
      "  Bounds range     [1e+00, 1e+00]\n",
      "  RHS range        [6e-02, 4e+01]\n",
      "Presolve removed 660 rows and 542 columns\n",
      "Presolve time: 0.00s\n",
      "\n",
      "Explored 0 nodes (0 simplex iterations) in 0.01 seconds\n",
      "Thread count was 1 (of 8 available processors)\n",
      "\n",
      "Solution count 0\n",
      "\n",
      "Model is infeasible\n",
      "Best objective -, best bound -, gap -\n"
     ]
    },
    {
     "name": "stderr",
     "output_type": "stream",
     "text": [
      "\u001b[1m\u001b[33mWARNING: \u001b[39m\u001b[22m\u001b[33mNot solved to optimality, status: Infeasible\u001b[39m\n",
      "\u001b[1m\u001b[33mWARNING: \u001b[39m\u001b[22m\u001b[33mInfeasibility ray (Farkas proof) not available\u001b[39m\n"
     ]
    },
    {
     "name": "stdout",
     "output_type": "stream",
     "text": [
      "elapsed time: 2.977388351 seconds\n"
     ]
    }
   ],
   "source": [
    "tic();\n",
    "status = solve(m);\n",
    "toc();"
   ]
  },
  {
   "cell_type": "markdown",
   "metadata": {},
   "source": [
    "Given a sequence of planes $p,q,r,s...$, plane $p$ comes before all of them and so will have $P-1$ ones in its row of the $A$ matrix.\n",
    "Plane $q$ has one fewer, $P-2$, and plane $r$ has $P-3$. This continues up until the final plane numbered $P$, which has all zeros.\n",
    "The total number of ones in the $A$ matrix is therefore\n",
    "$$\\begin{align*}\n",
    "    \\sum_{p=1}^{P} (P-p) &= \\sum_{p=1}^{P} P - \\sum_{p=1}^{P} p\\\\\n",
    "\t\t\t\t\t   &= P^2 - P(P+1)/2\\\\\n",
    "\t\t\t\t\t   &= P(P-1)/2\n",
    "\\end{align*}$$"
   ]
  },
  {
   "cell_type": "code",
   "execution_count": 12,
   "metadata": {
    "collapsed": true
   },
   "outputs": [],
   "source": [
    "@constraint(m, sum(A)==P*(P-1)/2)\n",
    ";"
   ]
  },
  {
   "cell_type": "code",
   "execution_count": 13,
   "metadata": {
    "collapsed": false
   },
   "outputs": [
    {
     "name": "stdout",
     "output_type": "stream",
     "text": [
      "Optimize a model with 1816 rows, 945 columns and 4500 nonzeros\n",
      "Variable types: 720 continuous, 225 integer (225 binary)\n",
      "Coefficient statistics:\n",
      "  Matrix range     [5e-03, 4e+01]\n",
      "  Objective range  [3e-02, 9e-01]\n",
      "  Bounds range     [1e+00, 1e+00]\n",
      "  RHS range        [6e-02, 1e+02]\n",
      "Presolve removed 661 rows and 542 columns\n",
      "Presolve time: 0.00s\n",
      "\n",
      "Explored 0 nodes (0 simplex iterations) in 0.01 seconds\n",
      "Thread count was 1 (of 8 available processors)\n",
      "\n",
      "Solution count 0\n",
      "\n",
      "Model is infeasible\n",
      "Best objective -, best bound -, gap -\n",
      "elapsed time: 0.044605608 seconds\n"
     ]
    },
    {
     "name": "stderr",
     "output_type": "stream",
     "text": [
      "\u001b[1m\u001b[33mWARNING: \u001b[39m\u001b[22m\u001b[33mNot solved to optimality, status: Infeasible\u001b[39m\n",
      "\u001b[1m\u001b[33mWARNING: \u001b[39m\u001b[22m\u001b[33mInfeasibility ray (Farkas proof) not available\u001b[39m\n"
     ]
    }
   ],
   "source": [
    "tic();\n",
    "status = solve(m);\n",
    "toc();"
   ]
  },
  {
   "cell_type": "markdown",
   "metadata": {},
   "source": [
    "\"Coming before\" is a transitive property. What this means is that if p comes before q, and q comes before r, then p comes before r. This fact can put some more constraints on the A matrix."
   ]
  },
  {
   "cell_type": "code",
   "execution_count": 14,
   "metadata": {
    "collapsed": true
   },
   "outputs": [],
   "source": [
    "for p = 1:P\n",
    "    for q = 1:P\n",
    "        for r = 1:P\n",
    "            @constraint(m, A[p,q] + A[q,r] <= 1 + A[p,r])\n",
    "        end\n",
    "    end\n",
    "end\n",
    ";"
   ]
  },
  {
   "cell_type": "markdown",
   "metadata": {},
   "source": [
    "The idea behind this formulation is that if the planes land one after the other you will have a situation like this:\n",
    "\n",
    "<img src=\"files/no_overlap.png\"> \n",
    "\n",
    "whereas with overlap you have this:\n",
    "\n",
    "<img src=\"files/yes_overlap.png\"> \n",
    "\n",
    "\n",
    "\n",
    " In the first case, $W_{p,q} \\geq l_p + l_q$, while in the second, that inequality is violated. Since $G \\geq 0$, this forces no overlap.\n",
    "Notice also how $W_{p,q} = \\max(L_{p,q}, L_{q,p})$. At least one of the two arguments must be positive, so $W$ must be too."
   ]
  }
 ],
 "metadata": {
  "kernelspec": {
   "display_name": "Julia 0.6.2",
   "language": "julia",
   "name": "julia-0.6"
  },
  "language_info": {
   "file_extension": ".jl",
   "mimetype": "application/julia",
   "name": "julia",
   "version": "0.6.2"
  }
 },
 "nbformat": 4,
 "nbformat_minor": 2
}
