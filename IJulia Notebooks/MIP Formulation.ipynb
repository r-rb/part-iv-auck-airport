{
 "cells": [
  {
   "cell_type": "markdown",
   "metadata": {},
   "source": [
    "#  Preparation"
   ]
  },
  {
   "cell_type": "markdown",
   "metadata": {},
   "source": [
    "### Modules"
   ]
  },
  {
   "cell_type": "code",
   "execution_count": 1,
   "metadata": {
    "collapsed": false
   },
   "outputs": [],
   "source": [
    "using JuMP, Gurobi"
   ]
  },
  {
   "cell_type": "markdown",
   "metadata": {},
   "source": [
    "### Solver"
   ]
  },
  {
   "cell_type": "code",
   "execution_count": 2,
   "metadata": {
    "collapsed": true
   },
   "outputs": [],
   "source": [
    "solver = GurobiSolver(Presolve = 1)\n",
    ";"
   ]
  },
  {
   "cell_type": "markdown",
   "metadata": {},
   "source": [
    "### Data"
   ]
  },
  {
   "cell_type": "code",
   "execution_count": 3,
   "metadata": {
    "collapsed": true
   },
   "outputs": [],
   "source": [
    "c = [2, 1, 2, 4]    # Cost of delays for each plane\n",
    "t = [1, 2, 2, 3]    # Ideal arrival time\n",
    "l = [2, 0.5, 1, 2]  # Time spent on the runway\n",
    "set_up = [  [0 5 2 3]\n",
    "            [1 0 2 3]\n",
    "            [2 0 3 4]\n",
    "            [2 0 4 4]  ] # Set-up times: entry (p,q) is the minimum time required between the finish of plane p and the arrival of plane q\n",
    "d_max = [20, 20, 20, 20] # Maximum allowable delay for each plane\n",
    ";"
   ]
  },
  {
   "cell_type": "markdown",
   "metadata": {},
   "source": [
    "### Pre-checks"
   ]
  },
  {
   "cell_type": "code",
   "execution_count": 4,
   "metadata": {
    "collapsed": true
   },
   "outputs": [],
   "source": [
    "P = length(c) # Number of planes\n",
    "assert(all(l.>=0))\n",
    "assert(length(t)==P)\n",
    "assert(length(l)==P)\n",
    "assert(length(d_max)==P)\n",
    "assert(size(set_up)==(P,P))"
   ]
  },
  {
   "cell_type": "markdown",
   "metadata": {},
   "source": [
    "### Big M calculation"
   ]
  },
  {
   "cell_type": "code",
   "execution_count": 5,
   "metadata": {
    "collapsed": false
   },
   "outputs": [
    {
     "name": "stderr",
     "output_type": "stream",
     "text": [
      "\u001b[1m\u001b[33mWARNING: \u001b[39m\u001b[22m\u001b[33mArray(::Type{T}, m::Int, n::Int) where T is deprecated, use Array{T}(m, n) instead.\u001b[39m\n",
      "Stacktrace:\n",
      " [1] \u001b[1mdepwarn\u001b[22m\u001b[22m\u001b[1m(\u001b[22m\u001b[22m::String, ::Symbol\u001b[1m)\u001b[22m\u001b[22m at \u001b[1m./deprecated.jl:70\u001b[22m\u001b[22m\n",
      " [2] \u001b[1mArray\u001b[22m\u001b[22m\u001b[1m(\u001b[22m\u001b[22m::Type{Float64}, ::Int64, ::Int64\u001b[1m)\u001b[22m\u001b[22m at \u001b[1m./deprecated.jl:57\u001b[22m\u001b[22m\n",
      " [3] \u001b[1minclude_string\u001b[22m\u001b[22m\u001b[1m(\u001b[22m\u001b[22m::String, ::String\u001b[1m)\u001b[22m\u001b[22m at \u001b[1m./loading.jl:522\u001b[22m\u001b[22m\n",
      " [4] \u001b[1mexecute_request\u001b[22m\u001b[22m\u001b[1m(\u001b[22m\u001b[22m::ZMQ.Socket, ::IJulia.Msg\u001b[1m)\u001b[22m\u001b[22m at \u001b[1m/home/nathan/.julia/v0.6/IJulia/src/execute_request.jl:158\u001b[22m\u001b[22m\n",
      " [5] \u001b[1m(::Compat.#inner#17{Array{Any,1},IJulia.#execute_request,Tuple{ZMQ.Socket,IJulia.Msg}})\u001b[22m\u001b[22m\u001b[1m(\u001b[22m\u001b[22m\u001b[1m)\u001b[22m\u001b[22m at \u001b[1m/home/nathan/.julia/v0.6/Compat/src/Compat.jl:385\u001b[22m\u001b[22m\n",
      " [6] \u001b[1meventloop\u001b[22m\u001b[22m\u001b[1m(\u001b[22m\u001b[22m::ZMQ.Socket\u001b[1m)\u001b[22m\u001b[22m at \u001b[1m/home/nathan/.julia/v0.6/IJulia/src/eventloop.jl:8\u001b[22m\u001b[22m\n",
      " [7] \u001b[1m(::IJulia.##14#17)\u001b[22m\u001b[22m\u001b[1m(\u001b[22m\u001b[22m\u001b[1m)\u001b[22m\u001b[22m at \u001b[1m./task.jl:335\u001b[22m\u001b[22m\n",
      "while loading In[5], in expression starting on line 1\n"
     ]
    }
   ],
   "source": [
    "BigM = Array(Float64,P,P)\n",
    "for p = 1:P\n",
    "    for q = 1:P\n",
    "        BigM[p,q] = 2*d_max[p] + 2*d_max[q] + l[p]+l[q] + 2*abs(t[p]-t[q]) \n",
    "    end\n",
    "end"
   ]
  },
  {
   "cell_type": "markdown",
   "metadata": {},
   "source": [
    "We would like $M_{p,q} \\geq W_{p,q}$.\n",
    "\n",
    "$$\\begin{align*}\n",
    "    W_{p,q} &= \\max\\{L_{p,q},L_{q,p}\\}\\\\\n",
    "            &\\leq |L_{p,q}| + |L_{q,p}|\\\\\n",
    "            &= |e_p - a_q| + |e_q - a_p|\\\\\n",
    "            &= |l_p + a_p - a_q| + |l_q + a_q - a_p|\\\\\n",
    "            &\\leq | l_p| + |a_p - a_q| + |l_q| + |a_q - a_p|&\\text{By the triangle inequality}\\\\\n",
    "            &= l_p +  l_q + 2| a_p - a_q|&\\text{since }l\\geq 0\\\\\n",
    "            &= l_p +  l_q + 2| t_p+d_p-t_q-d_q|\\\\\n",
    "            &\\leq l_p +  l_q + 2| t_p-t_q| + 2|d_p-d_q|&\\text{By the triangle inequality}\\\\\n",
    "            &\\leq 2|d_p|+2|d_q|+l_p +  l_q + 2| t_p-t_q|&\\text{By the triangle inequality}\\\\\n",
    "            &\\leq 2d_{\\max_p}+2d_{\\max_q}+l_p +  l_q + 2| t_p-t_q|\\\\\n",
    "            &=:M_{p,q}\n",
    "\\end{align*}$$"
   ]
  },
  {
   "cell_type": "markdown",
   "metadata": {},
   "source": [
    "# Model"
   ]
  },
  {
   "cell_type": "markdown",
   "metadata": {},
   "source": [
    "### Main model object"
   ]
  },
  {
   "cell_type": "code",
   "execution_count": 6,
   "metadata": {
    "collapsed": true
   },
   "outputs": [],
   "source": [
    "m = Model(solver = solver)\n",
    ";"
   ]
  },
  {
   "cell_type": "markdown",
   "metadata": {},
   "source": [
    "### Variables "
   ]
  },
  {
   "cell_type": "code",
   "execution_count": 7,
   "metadata": {
    "collapsed": true
   },
   "outputs": [],
   "source": [
    "@variable(m, a[1:P]) # Scheduled arrival times\n",
    "@variable(m, e[1:P]) # Scheduled ending times\n",
    "@variable(m, d[1:P] >= 0) # Scheduled delays\n",
    "@variable(m, L[1:P,1:P]) # Time between the first plane, p, finishing and the second, q, arriving\n",
    "@variable(m, W[1:P,1:P] >= 0) # The smallest window of time that contains all intervals of time in which either plane p or plane q is landing.\n",
    "@variable(m, G[1:P,1:P] >= 0) # The gap between plane p ad q's landings\n",
    "@variable(m, A[1:P,1:P], Bin) # Binary matrix; entry (p,q) is equal to 1 if plane p arrives before plane q, and 0 otherwise.\n",
    ";"
   ]
  },
  {
   "cell_type": "markdown",
   "metadata": {},
   "source": [
    "### Objective"
   ]
  },
  {
   "cell_type": "code",
   "execution_count": 8,
   "metadata": {
    "collapsed": true
   },
   "outputs": [],
   "source": [
    "@objective(m, Min, dot(c,d)) # Minimise the total cost of delays\n",
    ";"
   ]
  },
  {
   "cell_type": "markdown",
   "metadata": {},
   "source": [
    "### Essential Constraints"
   ]
  },
  {
   "cell_type": "code",
   "execution_count": 9,
   "metadata": {
    "collapsed": true
   },
   "outputs": [],
   "source": [
    "@constraint(m, a .== t + d) # The arrival time is the ideal arrival time, plus delay\n",
    "@constraint(m, e .== a + l) # The ending time is the arrival time plus time spent on runway\n",
    "@constraint(m, d .<= d_max) # Maximum delay\n",
    "for p = 1:P\n",
    "    for q = 1:P\n",
    "        @constraint(m, L[p,q] == e[p] - a[q]) # By the definition of L\n",
    "        \n",
    "        @constraint(m, W[p,q] >= L[p,q]) # W[p,q] == maximum(L[p,q], L[q,p]), constraint I\n",
    "        @constraint(m, W[p,q] >= L[q,p]) # W[p,q] == maximum(L[p,q], L[q,p]), constraint II\n",
    "        @constraint(m, W[p,q] <= L[p,q] + BigM[p,q]*A[p,q]) # W[p,q] == maximum(L[p,q], L[q,p]), constraint III\n",
    "        @constraint(m, W[p,q] <= L[q,p] + BigM[p,q]*(1-A[p,q])) # W[p,q] == maximum(L[p,q], L[q,p]), constraint IV\n",
    "\n",
    "        if p != q\n",
    "            @constraint(m, G[p,q]+l[p]+l[q] == W[p,q]) # The window W is the time the two planes spend each on the runway, plus the gap between these planes.\n",
    "            @constraint(m, G[p,q] >= set_up[p,q].*A[p,q]) # Enforce set-up times\n",
    "            @constraint(m, A[p,q] + A[q,p] == 1) # Plane p comes before plane q, or q before p, but not both.\n",
    "        end\n",
    "    end\n",
    "end"
   ]
  },
  {
   "cell_type": "markdown",
   "metadata": {},
   "source": [
    "### Additional Constraints"
   ]
  },
  {
   "cell_type": "markdown",
   "metadata": {},
   "source": [
    "Now for some constraints that should help make the problem easier to solve, but aren't necessary in enforcing the logic of the problem. The first is to get an upper bound on each delay. In the very worst case scenario, plane $p$ ideally arrives first, but gets scheduled to arrive last, after all the other planes have arrived one after the other, incurring times of\n",
    "$$\\sum_{i\\neq p} l_i+(P-1)\\max_{i,j}\\mathrm{(Setup)}_{i,j}$$\n",
    "in total. Therefore our constraint is"
   ]
  },
  {
   "cell_type": "code",
   "execution_count": 10,
   "metadata": {
    "collapsed": true
   },
   "outputs": [],
   "source": [
    "for p = 1:P\n",
    "    @constraint(m, d[p] <= sum(l)-l[p] + (P-1)*maximum(set_up))\n",
    "end"
   ]
  },
  {
   "cell_type": "markdown",
   "metadata": {},
   "source": [
    "Given a sequence of planes $p,q,r,s...$, plane $p$ comes before all of them and so will have $P-1$ ones in its row of the $A$ matrix.\n",
    "Plane $q$ has one fewer, $P-2$, and plane $r$ has $P-3$. This continues up until the final plane numbered $P$, which has all zeros.\n",
    "The total number of ones in the $A$ matrix is therefore\n",
    "$$\\begin{align*}\n",
    "    \\sum_{p=1}^{P} (P-p) &= \\sum_{p=1}^{P} P - \\sum_{p=1}^{P} p\\\\\n",
    "\t\t\t\t\t   &= P^2 - P(P+1)/2\\\\\n",
    "\t\t\t\t\t   &= P(P-1)/2\n",
    "\\end{align*}$$"
   ]
  },
  {
   "cell_type": "code",
   "execution_count": 11,
   "metadata": {
    "collapsed": true
   },
   "outputs": [],
   "source": [
    "@constraint(m, sum(A)==P*(P-1)/2)\n",
    ";"
   ]
  },
  {
   "cell_type": "markdown",
   "metadata": {},
   "source": [
    "\"Coming before\" is a transitive property. What this means is that if p comes before q, and q comes before r, then p comes before r. This fact can put some more constraints on the A matrix."
   ]
  },
  {
   "cell_type": "code",
   "execution_count": 12,
   "metadata": {
    "collapsed": true
   },
   "outputs": [],
   "source": [
    "for p = 1:P\n",
    "    for q = 1:P\n",
    "        for r = 1:P\n",
    "            @constraint(m, A[p,q] + A[q,r] <= 1 + A[p,r])\n",
    "        end\n",
    "    end\n",
    "end\n",
    ";"
   ]
  },
  {
   "cell_type": "markdown",
   "metadata": {},
   "source": [
    "The idea behind this formulation is that if the planes land one after the other you will have a situation like this:\n",
    "\n",
    "<img src=\"files/no_overlap.png\"> \n",
    "\n",
    "whereas with overlap you have this:\n",
    "\n",
    "<img src=\"files/yes_overlap.png\"> \n",
    "\n",
    "\n",
    "\n",
    " In the first case, $W_{p,q} \\geq l_p + l_q$, while in the second, that inequality is violated. Since $G \\geq 0$, this forces no overlap.\n",
    "Notice also how $W_{p,q} = \\max(L_{p,q}, L_{q,p})$. At least one of the two arguments must be positive, so $W$ must be too."
   ]
  },
  {
   "cell_type": "markdown",
   "metadata": {},
   "source": [
    "# Solve"
   ]
  },
  {
   "cell_type": "markdown",
   "metadata": {},
   "source": [
    "### Run solver"
   ]
  },
  {
   "cell_type": "code",
   "execution_count": 18,
   "metadata": {
    "collapsed": false
   },
   "outputs": [
    {
     "name": "stdout",
     "output_type": "stream",
     "text": [
      "Optimize a model with 197 rows, 76 columns and 454 nonzeros\n",
      "Variable types: 60 continuous, 16 integer (16 binary)\n",
      "Coefficient statistics:\n",
      "  Matrix range     [1e+00, 9e+01]\n",
      "  Objective range  [1e+00, 4e+00]\n",
      "  Bounds range     [1e+00, 1e+00]\n",
      "  RHS range        [5e-01, 9e+01]\n",
      "\n",
      "Loaded MIP start with objective 33\n",
      "MIP start did not produce a new incumbent solution\n",
      "\n",
      "Presolve removed 139 rows and 50 columns\n",
      "Presolve time: 0.00s\n",
      "Presolved: 58 rows, 26 columns, 170 nonzeros\n",
      "Variable types: 20 continuous, 6 integer (6 binary)\n",
      "\n",
      "Root relaxation: objective 0.000000e+00, 23 iterations, 0.00 seconds\n",
      "\n",
      "    Nodes    |    Current Node    |     Objective Bounds      |     Work\n",
      " Expl Unexpl |  Obj  Depth IntInf | Incumbent    BestBd   Gap | It/Node Time\n",
      "\n",
      "     0     0    0.00000    0    6   33.00000    0.00000   100%     -    0s\n",
      "     0     0   13.17771    0    6   33.00000   13.17771  60.1%     -    0s\n",
      "     0     0   17.00000    0    6   33.00000   17.00000  48.5%     -    0s\n",
      "     0     0   22.00000    0    6   33.00000   22.00000  33.3%     -    0s\n",
      "     0     2   22.00000    0    6   33.00000   22.00000  33.3%     -    0s\n",
      "\n",
      "Cutting planes:\n",
      "  Gomory: 5\n",
      "  Cover: 1\n",
      "  Implied bound: 2\n",
      "  MIR: 3\n",
      "\n",
      "Explored 8 nodes (115 simplex iterations) in 0.01 seconds\n",
      "Thread count was 8 (of 8 available processors)\n",
      "\n",
      "Solution count 1: 33 \n",
      "\n",
      "Optimal solution found (tolerance 1.00e-04)\n",
      "Best objective 3.300000000000e+01, best bound 3.300000000000e+01, gap 0.0000%\n",
      "elapsed time: 0.05036501 seconds\n"
     ]
    }
   ],
   "source": [
    "tic();\n",
    "status = solve(m);\n",
    "toc();"
   ]
  },
  {
   "cell_type": "markdown",
   "metadata": {},
   "source": [
    "### Get Solution"
   ]
  },
  {
   "cell_type": "code",
   "execution_count": 14,
   "metadata": {
    "collapsed": false
   },
   "outputs": [],
   "source": [
    "objective_value = getobjectivevalue(m)\n",
    "arrivals = getvalue(a)\n",
    "exits = getvalue(e)\n",
    "ideals = t\n",
    ";"
   ]
  },
  {
   "cell_type": "markdown",
   "metadata": {},
   "source": [
    "### Print Solution"
   ]
  },
  {
   "cell_type": "code",
   "execution_count": 15,
   "metadata": {
    "collapsed": false
   },
   "outputs": [
    {
     "name": "stdout",
     "output_type": "stream",
     "text": [
      "Objective value: 33.0\n",
      "Arrival schedule: [7.0, 5.0, 11.0, 3.0]\n",
      "Runway exit times: [9.0, 5.5, 12.0, 5.0]\n"
     ]
    }
   ],
   "source": [
    "if status == :Optimal\n",
    "    println(\"Objective value: \", objective_value)\n",
    "    println(\"Arrival schedule: \", arrivals)\n",
    "    println(\"Runway exit times: \", exits)\n",
    "else\n",
    "    println(\"Status: \", status)\n",
    "end"
   ]
  },
  {
   "cell_type": "markdown",
   "metadata": {},
   "source": [
    "# Post-processing"
   ]
  },
  {
   "cell_type": "markdown",
   "metadata": {},
   "source": [
    "### Compute derived values"
   ]
  },
  {
   "cell_type": "code",
   "execution_count": 21,
   "metadata": {
    "collapsed": false
   },
   "outputs": [],
   "source": [
    "event_times = sort(union(ideals,arrivals,exits))\n",
    "T = length(event_times)\n",
    "\n",
    "is_ideally_arrived = Array{Bool}(P, T)\n",
    "is_arrived = Array{Bool}(P, T)\n",
    "is_finished = Array{Bool}(P, T)\n",
    "for p=1:P\n",
    "    is_ideally_arrived[p,:] = (event_times .>= ideals[p])\n",
    "    is_arrived[p,:] = (event_times .>= arrivals[p])\n",
    "    is_finished[p,:] = (event_times .>= exits[p])\n",
    "end\n",
    "is_delayed = is_ideally_arrived .& .!is_arrived\n",
    "is_landing = is_arrived .& .!is_finished\n",
    ";"
   ]
  },
  {
   "cell_type": "markdown",
   "metadata": {},
   "source": [
    "### Display Schedule"
   ]
  },
  {
   "cell_type": "code",
   "execution_count": 22,
   "metadata": {
    "collapsed": false
   },
   "outputs": [
    {
     "name": "stdout",
     "output_type": "stream",
     "text": [
      "\n",
      "|--1.0----2.0----3.0----5.0----5.5----7.0----9.0----11.0---12.0---|\n",
      "|--------------------------------------<======>-------------------|\n",
      "|------------------------<======>---------------------------------|\n",
      "|----------------------------------------------------<======>-----|\n",
      "|-----------------<======>----------------------------------------|\n"
     ]
    }
   ],
   "source": [
    "print(\"\\n\")\n",
    "event_line = \"|\"\n",
    "for ev = 1:T\n",
    "    added = \"--$(round(event_times[ev],1))\"\n",
    "    event_line *= added * \"-\"^(7-length(added))\n",
    "end\n",
    "event_line *= \"--|\\n\"\n",
    "print(event_line)\n",
    "\n",
    "for p = 1:P\n",
    "    plane_line = \"|\"\n",
    "    plane_land = false\n",
    "    for ev = 1:T\n",
    "        if is_landing[p,ev]\n",
    "            if plane_land\n",
    "                plane_line *= \"=======\"\n",
    "            else\n",
    "                plane_land = true\n",
    "                plane_line *= \"---<===\"\n",
    "            end\n",
    "        else\n",
    "            if plane_land\n",
    "                plane_land = false\n",
    "                plane_line *= \"===>---\"\n",
    "            else\n",
    "                plane_line *= \"-------\"\n",
    "            end\n",
    "        end\n",
    "    end\n",
    "    plane_line *= \"--|\\n\"\n",
    "    print(plane_line)\n",
    "end"
   ]
  }
 ],
 "metadata": {
  "kernelspec": {
   "display_name": "Julia 0.6.2",
   "language": "julia",
   "name": "julia-0.6"
  },
  "language_info": {
   "file_extension": ".jl",
   "mimetype": "application/julia",
   "name": "julia",
   "version": "0.6.2"
  }
 },
 "nbformat": 4,
 "nbformat_minor": 2
}
